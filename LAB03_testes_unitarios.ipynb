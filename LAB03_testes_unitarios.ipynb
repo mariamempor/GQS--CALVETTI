{
  "nbformat": 4,
  "nbformat_minor": 0,
  "metadata": {
    "colab": {
      "provenance": [],
      "authorship_tag": "ABX9TyPVH39RmAp6P3MCNb9Uyx4I",
      "include_colab_link": true
    },
    "kernelspec": {
      "name": "python3",
      "display_name": "Python 3"
    },
    "language_info": {
      "name": "python"
    }
  },
  "cells": [
    {
      "cell_type": "markdown",
      "metadata": {
        "id": "view-in-github",
        "colab_type": "text"
      },
      "source": [
        "<a href=\"https://colab.research.google.com/github/mariamempor/GQS--CALVETTI/blob/main/lab03_testes_unit_rios.ipynb\" target=\"_parent\"><img src=\"https://colab.research.google.com/assets/colab-badge.svg\" alt=\"Open In Colab\"/></a>"
      ]
    },
    {
      "cell_type": "markdown",
      "source": [
        "LAB 03 ATV SALA"
      ],
      "metadata": {
        "id": "5-nTqKi4o8vL"
      }
    },
    {
      "cell_type": "code",
      "source": [
        "from google.colab import drive"
      ],
      "metadata": {
        "id": "G5u9NJpLo2_N"
      },
      "execution_count": null,
      "outputs": []
    },
    {
      "cell_type": "code",
      "source": [
        "# célula 1: função a ser testada !\n",
        "\n",
        "def soma(a, b):\n",
        "  return a + b"
      ],
      "metadata": {
        "id": "lQGJS7roo7Cg"
      },
      "execution_count": null,
      "outputs": []
    },
    {
      "cell_type": "code",
      "source": [
        "import unittest\n",
        "\n",
        "class TestSoma(unittest.TestCase):\n",
        "  def test_soma_positivo(self):\n",
        "    self.assertEqual(soma(2, 2), 4)\n",
        "\n",
        "  def test_soma_negativo(self):\n",
        "    self.assertEqual(soma(-2, -2), -4)\n",
        "\n",
        "  def test_soma_zero(self):\n",
        "    self.assertEqual(soma(0, 0), 0)\n",
        "\n",
        "\n",
        "if __name__ == '__main__':\n",
        "  unittest.main(argv=['first-arg-is-ignored'], exit=False)"
      ],
      "metadata": {
        "id": "nLjIshoapC1X"
      },
      "execution_count": null,
      "outputs": []
    },
    {
      "cell_type": "markdown",
      "source": [
        "# ATIVIDADES\n",
        "\n",
        "1.  Escreva função is_par(n) que retorna True se n for par;\n",
        "Testes: números par, ímpar, zero, número negativo.\n",
        "2.  Função fatorial(n), retorna fatorial para n >= 0, levanta ValueError se n < 0;\n",
        "Testes: fatorial(0) == 1, fatorial(5) == 120, fatorial(-1) levanta ValueError.\n",
        "3.  Classe Conta com métodos depositar(amount) e sacar(amount).\n",
        "Levanta ValueError em valores negativos e InsufficientFunds quando tentar\n",
        "sacar mais do que tem;\n",
        "Testes: depósito, saque com sucesso, saque insuficiente, entradas\n",
        "inválidas.\n",
        "4.  Função buscar_clima(cidade) que chama:\n",
        "requests.get('https://api.exemplo/clima?cidade=...') e retorna temperatura;\n",
        "Escreva testes de mock que chamem requests.get e validem que sua função trata\n",
        "corretamente a resposta e exceções (ex.: quando json() não contém temperatura)."
      ],
      "metadata": {
        "id": "k9F9vlO6ouxJ"
      }
    },
    {
      "cell_type": "code",
      "execution_count": null,
      "metadata": {
        "colab": {
          "base_uri": "https://localhost:8080/"
        },
        "id": "CERFQxSCnvdX",
        "outputId": "36d57179-7e07-426e-9026-955e99f92223"
      },
      "outputs": [
        {
          "output_type": "stream",
          "name": "stderr",
          "text": [
            "......\n",
            "----------------------------------------------------------------------\n",
            "Ran 6 tests in 0.009s\n",
            "\n",
            "OK\n"
          ]
        }
      ],
      "source": [
        "import unittest\n",
        "from unittest.mock import patch, Mock\n",
        "\n",
        "\n",
        "# 1. Função is_par\n",
        "# =========================\n",
        "def is_par(n):\n",
        "    return n % 2 == 0\n",
        "\n",
        "\n",
        "# 2. Função fatorial\n",
        "# =========================\n",
        "def fatorial(n):\n",
        "    if n < 0:\n",
        "        raise ValueError(\"n deve ser >= 0\")\n",
        "    if n == 0:\n",
        "        return 1\n",
        "    resultado = 1\n",
        "    for i in range(1, n+1):\n",
        "        resultado *= i\n",
        "    return resultado\n",
        "\n",
        "\n",
        "# 3. Classe Conta\n",
        "# =========================\n",
        "class InsufficientFunds(Exception):\n",
        "    pass\n",
        "\n",
        "class Conta:\n",
        "    def __init__(self, saldo=0):\n",
        "        self.saldo = saldo\n",
        "\n",
        "    def depositar(self, amount):\n",
        "        if amount < 0:\n",
        "            raise ValueError(\"Depósito deve ser positivo\")\n",
        "        self.saldo += amount\n",
        "\n",
        "    def sacar(self, amount):\n",
        "        if amount < 0:\n",
        "            raise ValueError(\"Saque deve ser positivo\")\n",
        "        if amount > self.saldo:\n",
        "            raise InsufficientFunds(\"Saldo insuficiente\")\n",
        "        self.saldo -= amount\n",
        "\n",
        "\n",
        "# 4. Função buscar_clima\n",
        "# =========================\n",
        "import requests\n",
        "\n",
        "def buscar_clima(cidade):\n",
        "    try:\n",
        "        resp = requests.get(f\"https://api.exemplo/clima?cidade={cidade}\")\n",
        "        dados = resp.json()\n",
        "        if \"temperatura\" not in dados:\n",
        "            raise KeyError(\"Resposta não contém temperatura\")\n",
        "        return dados[\"temperatura\"]\n",
        "    except Exception as e:\n",
        "        return f\"Erro: {e}\"\n",
        "\n",
        "\n",
        "# Testes Unitários\n",
        "# =========================\n",
        "class TestFuncoes(unittest.TestCase):\n",
        "\n",
        "    # Testes para is_par\n",
        "    def test_is_par(self):\n",
        "        self.assertTrue(is_par(2))\n",
        "        self.assertFalse(is_par(3))\n",
        "        self.assertTrue(is_par(0))\n",
        "        self.assertTrue(is_par(-4))\n",
        "        self.assertFalse(is_par(-5))\n",
        "\n",
        "    # Testes para fatorial\n",
        "    def test_fatorial(self):\n",
        "        self.assertEqual(fatorial(0), 1)\n",
        "        self.assertEqual(fatorial(5), 120)\n",
        "        with self.assertRaises(ValueError):\n",
        "            fatorial(-1)\n",
        "\n",
        "    # Testes para Conta\n",
        "    def test_conta(self):\n",
        "        conta = Conta(100)\n",
        "\n",
        "        conta.depositar(50)\n",
        "        self.assertEqual(conta.saldo, 150)\n",
        "\n",
        "        conta.sacar(30)\n",
        "        self.assertEqual(conta.saldo, 120)\n",
        "\n",
        "        with self.assertRaises(InsufficientFunds):\n",
        "            conta.sacar(1000)\n",
        "\n",
        "        with self.assertRaises(ValueError):\n",
        "            conta.depositar(-10)\n",
        "\n",
        "        with self.assertRaises(ValueError):\n",
        "            conta.sacar(-5)\n",
        "\n",
        "    # Testes para buscar_clima com mock\n",
        "    @patch(\"requests.get\")\n",
        "    def test_buscar_clima_sucesso(self, mock_get):\n",
        "        mock_resp = Mock()\n",
        "        mock_resp.json.return_value = {\"temperatura\": 25}\n",
        "        mock_get.return_value = mock_resp\n",
        "\n",
        "        resultado = buscar_clima(\"São Paulo\")\n",
        "        self.assertEqual(resultado, 25)\n",
        "\n",
        "    @patch(\"requests.get\")\n",
        "    def test_buscar_clima_sem_temperatura(self, mock_get):\n",
        "        mock_resp = Mock()\n",
        "        mock_resp.json.return_value = {\"umidade\": 80}\n",
        "        mock_get.return_value = mock_resp\n",
        "\n",
        "        resultado = buscar_clima(\"São Paulo\")\n",
        "        self.assertTrue(\"Erro:\" in resultado)\n",
        "\n",
        "    @patch(\"requests.get\")\n",
        "    def test_buscar_clima_erro_request(self, mock_get):\n",
        "        mock_get.side_effect = Exception(\"Falha na conexão\")\n",
        "        resultado = buscar_clima(\"Rio\")\n",
        "        self.assertTrue(\"Erro:\" in resultado)\n",
        "\n",
        "\n",
        "# Executar\n",
        "# =========================\n",
        "if __name__ == \"__main__\":\n",
        "    unittest.main(argv=['first-arg-is-ignored'], exit=False)\n"
      ]
    }
  ]
}
