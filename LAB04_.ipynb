{
  "cells": [
    {
      "cell_type": "markdown",
      "id": "b7c58b0d",
      "metadata": {
        "id": "b7c58b0d"
      },
      "source": [
        "## Atividade 1 - Função `maior(a, b)`\n"
      ]
    },
    {
      "cell_type": "code",
      "execution_count": 3,
      "id": "9e057532",
      "metadata": {
        "id": "9e057532"
      },
      "outputs": [],
      "source": [
        "\n",
        "import pytest\n",
        "\n",
        "def test_maior():\n",
        "    from funcoes import maior\n",
        "    assert maior(5, 3) == 5\n",
        "    assert maior(3, 5) == 5\n",
        "    assert maior(7, 7) == 7\n",
        "    assert maior(-1, -5) == -1\n"
      ]
    },
    {
      "cell_type": "markdown",
      "id": "2a8915b7",
      "metadata": {
        "id": "2a8915b7"
      },
      "source": []
    },
    {
      "cell_type": "code",
      "execution_count": 4,
      "id": "b0156e01",
      "metadata": {
        "id": "b0156e01"
      },
      "outputs": [],
      "source": [
        "\n",
        "def maior(a, b):\n",
        "    return a if a >= b else b\n"
      ]
    },
    {
      "cell_type": "code",
      "source": [
        "!pytest -v"
      ],
      "metadata": {
        "colab": {
          "base_uri": "https://localhost:8080/"
        },
        "id": "XouAl64j62Sm",
        "outputId": "374f07af-bc64-48f7-de7f-497cde9ceb12"
      },
      "id": "XouAl64j62Sm",
      "execution_count": 8,
      "outputs": [
        {
          "output_type": "stream",
          "name": "stdout",
          "text": [
            "\u001b[1m============================= test session starts ==============================\u001b[0m\n",
            "platform linux -- Python 3.12.11, pytest-8.4.2, pluggy-1.6.0 -- /usr/bin/python3\n",
            "cachedir: .pytest_cache\n",
            "rootdir: /content\n",
            "plugins: typeguard-4.4.4, langsmith-0.4.27, anyio-4.10.0\n",
            "\u001b[1mcollecting ... \u001b[0m\u001b[1m\rcollected 0 items                                                              \u001b[0m\n",
            "\n",
            "\u001b[33m============================ \u001b[33mno tests ran\u001b[0m\u001b[33m in 0.01s\u001b[0m\u001b[33m =============================\u001b[0m\n"
          ]
        }
      ]
    },
    {
      "cell_type": "markdown",
      "id": "d74c9a8f",
      "metadata": {
        "id": "d74c9a8f"
      },
      "source": [
        "## Atividade 2 - Função `inverter_string(texto)`\n"
      ]
    },
    {
      "cell_type": "code",
      "execution_count": 5,
      "id": "127acaf9",
      "metadata": {
        "id": "127acaf9"
      },
      "outputs": [],
      "source": [
        "\n",
        "def test_inverter_string():\n",
        "    from funcoes import inverter_string\n",
        "    assert inverter_string(\"python\") == \"nohtyp\"\n",
        "    assert inverter_string(\"a\") == \"a\"\n",
        "    assert inverter_string(\"\") == \"\"\n",
        "    assert inverter_string(\"12345\") == \"54321\"\n"
      ]
    },
    {
      "cell_type": "markdown",
      "id": "e3474391",
      "metadata": {
        "id": "e3474391"
      },
      "source": []
    },
    {
      "cell_type": "code",
      "execution_count": 6,
      "id": "49cf520a",
      "metadata": {
        "id": "49cf520a"
      },
      "outputs": [],
      "source": [
        "\n",
        "def inverter_string(texto):\n",
        "    return texto[::-1]\n"
      ]
    },
    {
      "cell_type": "markdown",
      "id": "8eeb6d2c",
      "metadata": {
        "id": "8eeb6d2c"
      },
      "source": [
        "## Atividade 3 - Função `valida_cpf(cpf)`\n"
      ]
    },
    {
      "cell_type": "code",
      "execution_count": 7,
      "id": "a21d8071",
      "metadata": {
        "id": "a21d8071"
      },
      "outputs": [],
      "source": [
        "\n",
        "def test_valida_cpf():\n",
        "    from funcoes import valida_cpf\n",
        "    assert valida_cpf(\"12345678901\") == True\n",
        "    assert valida_cpf(\"1234567890\") == False\n",
        "    assert valida_cpf(\"123456789012\") == False\n",
        "    assert valida_cpf(\"abcdefghijk\") == False\n",
        "    assert valida_cpf(\"\") == False\n"
      ]
    },
    {
      "cell_type": "markdown",
      "id": "6c7f59ce",
      "metadata": {
        "id": "6c7f59ce"
      },
      "source": []
    },
    {
      "cell_type": "code",
      "execution_count": null,
      "id": "15d6b98f",
      "metadata": {
        "id": "15d6b98f"
      },
      "outputs": [],
      "source": [
        "\n",
        "def valida_cpf(cpf):\n",
        "    return cpf.isdigit() and len(cpf) == 11\n"
      ]
    }
  ],
  "metadata": {
    "colab": {
      "provenance": []
    },
    "language_info": {
      "name": "python"
    },
    "kernelspec": {
      "name": "python3",
      "display_name": "Python 3"
    }
  },
  "nbformat": 4,
  "nbformat_minor": 5
}