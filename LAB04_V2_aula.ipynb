{
  "cells": [
    {
      "cell_type": "code",
      "execution_count": 2,
      "id": "d7867428",
      "metadata": {
        "colab": {
          "base_uri": "https://localhost:8080/"
        },
        "id": "d7867428",
        "outputId": "d97723a0-6411-4952-87a9-5fa7f4877b00"
      },
      "outputs": [
        {
          "output_type": "stream",
          "name": "stdout",
          "text": [
            "Writing funcoes.py\n"
          ]
        }
      ],
      "source": [
        "\n",
        "%%writefile funcoes.py\n",
        "def maior(a, b):\n",
        "    return a if a >= b else b\n",
        "\n",
        "def inverter_string(texto):\n",
        "    return texto[::-1]\n",
        "\n",
        "def valida_cpf(cpf):\n",
        "    return cpf.isdigit() and len(cpf) == 11\n"
      ]
    },
    {
      "cell_type": "code",
      "execution_count": 3,
      "id": "50934521",
      "metadata": {
        "colab": {
          "base_uri": "https://localhost:8080/"
        },
        "id": "50934521",
        "outputId": "cfc4e187-0729-47ab-a6b4-08881a1952fe"
      },
      "outputs": [
        {
          "output_type": "stream",
          "name": "stdout",
          "text": [
            "Writing test_funcoes.py\n"
          ]
        }
      ],
      "source": [
        "\n",
        "%%writefile test_funcoes.py\n",
        "from funcoes import maior, inverter_string, valida_cpf\n",
        "\n",
        "def test_maior():\n",
        "    assert maior(5, 3) == 5\n",
        "    assert maior(3, 5) == 5\n",
        "    assert maior(7, 7) == 7\n",
        "    assert maior(-1, -5) == -1\n",
        "\n",
        "def test_inverter_string():\n",
        "    assert inverter_string(\"python\") == \"nohtyp\"\n",
        "    assert inverter_string(\"a\") == \"a\"\n",
        "    assert inverter_string(\"\") == \"\"\n",
        "    assert inverter_string(\"12345\") == \"54321\"\n",
        "\n",
        "def test_valida_cpf():\n",
        "    assert valida_cpf(\"12345678901\") == True\n",
        "    assert valida_cpf(\"1234567890\") == False\n",
        "    assert valida_cpf(\"123456789012\") == False\n",
        "    assert valida_cpf(\"abcdefghijk\") == False\n",
        "    assert valida_cpf(\"\") == False\n"
      ]
    },
    {
      "cell_type": "code",
      "execution_count": 4,
      "id": "66678e43",
      "metadata": {
        "colab": {
          "base_uri": "https://localhost:8080/"
        },
        "id": "66678e43",
        "outputId": "a96e8ad1-9e67-44ba-fb7a-d082ba4c3ec5"
      },
      "outputs": [
        {
          "output_type": "stream",
          "name": "stdout",
          "text": [
            "\u001b[1m============================= test session starts ==============================\u001b[0m\n",
            "platform linux -- Python 3.12.11, pytest-8.4.2, pluggy-1.6.0 -- /usr/bin/python3\n",
            "cachedir: .pytest_cache\n",
            "rootdir: /content\n",
            "plugins: typeguard-4.4.4, langsmith-0.4.27, anyio-4.10.0\n",
            "\u001b[1mcollecting ... \u001b[0m\u001b[1m\rcollected 3 items                                                              \u001b[0m\n",
            "\n",
            "test_funcoes.py::test_maior \u001b[32mPASSED\u001b[0m\u001b[32m                                       [ 33%]\u001b[0m\n",
            "test_funcoes.py::test_inverter_string \u001b[32mPASSED\u001b[0m\u001b[32m                             [ 66%]\u001b[0m\n",
            "test_funcoes.py::test_valida_cpf \u001b[32mPASSED\u001b[0m\u001b[32m                                  [100%]\u001b[0m\n",
            "\n",
            "\u001b[32m============================== \u001b[32m\u001b[1m3 passed\u001b[0m\u001b[32m in 0.02s\u001b[0m\u001b[32m ===============================\u001b[0m\n"
          ]
        }
      ],
      "source": [
        "\n",
        "!pytest -v\n"
      ]
    }
  ],
  "metadata": {
    "colab": {
      "provenance": []
    },
    "language_info": {
      "name": "python"
    },
    "kernelspec": {
      "name": "python3",
      "display_name": "Python 3"
    }
  },
  "nbformat": 4,
  "nbformat_minor": 5
}