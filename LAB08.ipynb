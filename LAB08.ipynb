{
  "nbformat": 4,
  "nbformat_minor": 0,
  "metadata": {
    "colab": {
      "provenance": []
    },
    "kernelspec": {
      "name": "python3",
      "display_name": "Python 3"
    },
    "language_info": {
      "name": "python"
    }
  },
  "cells": [
    {
      "cell_type": "code",
      "execution_count": 3,
      "metadata": {
        "id": "jQZCx7wYJp88"
      },
      "outputs": [],
      "source": [
        "def calcular_media(valores):\n",
        "  \"\"\"Calcula a média de uma lista numérica\"\"\"\n",
        "  return sum(valores) / len(valores)"
      ]
    },
    {
      "cell_type": "code",
      "source": [
        "def preco_com_desconto(preco, categoria):\n",
        "  \"\"\"Aplica descontos conforme categoria\"\"\"\n",
        "  descontos = {\"A\": 0.9, \"B\": 0.85, \"C\": 0.8}\n",
        "  return preco * descontos.get(categoria, 1)"
      ],
      "metadata": {
        "id": "IfLItjlVJ3w0"
      },
      "execution_count": 5,
      "outputs": []
    },
    {
      "cell_type": "code",
      "source": [
        "def calcular_total(itens):\n",
        "  \"\"\"Calcula total considerando categoria\"\"\"\n",
        "  return sum(\n",
        "      item[\"preco\"] * (1.2 if item[\"categoria\"] == \"eletronico\" else 1)\n",
        "      for item in itens\n",
        "  )\n",
        "\n",
        "def processar_pedido(pedido):\n",
        "  \"\"\"Processa pedido e aplica descontos\"\"\"\n",
        "  print(f\"Iniciando pedido {pedido['id']}\")\n",
        "  total = calcular_total(pedido[\"itens\"])\n",
        "  print(\"Total:\", total)\n",
        "  if total > 1000:\n",
        "    print(\"Aplicando desconto especial\")"
      ],
      "metadata": {
        "id": "9SDy15X8KBYL"
      },
      "execution_count": 7,
      "outputs": []
    },
    {
      "cell_type": "code",
      "source": [
        "def calcular_valor_total(preco, quantidade):\n",
        "  \"\"\"Retorna o valor total considerando produto e quantidade\"\"\"\n",
        "  return preco * quantidade + (preco + quantidade)"
      ],
      "metadata": {
        "id": "ln8UBJDUKHQg"
      },
      "execution_count": 11,
      "outputs": []
    },
    {
      "cell_type": "code",
      "source": [
        "idade = 25\n",
        "status = \"menor\" if idade < 18 else \"maior\""
      ],
      "metadata": {
        "id": "az_QnB_JKbdR"
      },
      "execution_count": 14,
      "outputs": []
    },
    {
      "cell_type": "code",
      "source": [
        "for etapa in [\"Iniciando\", \"Executando tarefa\", \"Finalizando\"]:\n",
        "  print(f\"{etapa}...\")"
      ],
      "metadata": {
        "colab": {
          "base_uri": "https://localhost:8080/"
        },
        "id": "LWFWDkLtKjPi",
        "outputId": "b560f778-8cb2-4167-c8d2-c800ac56bb4c"
      },
      "execution_count": 16,
      "outputs": [
        {
          "output_type": "stream",
          "name": "stdout",
          "text": [
            "Iniciando...\n",
            "Executando tarefa...\n",
            "Finalizando...\n"
          ]
        }
      ]
    },
    {
      "cell_type": "code",
      "source": [
        "TAXA_IMPOSTO = 0.07\n",
        "preco = 100 # Example value for preco\n",
        "preco_final = preco * (1 + TAXA_IMPOSTO)"
      ],
      "metadata": {
        "id": "PKxKxW8PKqCx"
      },
      "execution_count": 18,
      "outputs": []
    },
    {
      "cell_type": "code",
      "source": [
        "def obter_taxa_bonus(cargo):\n",
        "  taxas = {\"gerente\": 0.2, \"analista\": 0.1}\n",
        "  return taxas.get(cargo, 0.05)\n",
        "\n",
        "def calcular_bonus(funcionario):\n",
        "  taxa = obter_taxa_bonus(funcionario[\"cargo\"])\n",
        "  return funcionario[\"salario\"] * (1 + taxa)"
      ],
      "metadata": {
        "id": "4FGxSeK7Kw5L"
      },
      "execution_count": 20,
      "outputs": []
    },
    {
      "cell_type": "code",
      "source": [
        "def soma(a, b):\n",
        "  return a + b\n",
        "# Teste automatizado\n",
        "def test_soma():\n",
        "  assert soma(2, 3) == 5"
      ],
      "metadata": {
        "id": "O40511kjK2h6"
      },
      "execution_count": 22,
      "outputs": []
    }
  ]
}